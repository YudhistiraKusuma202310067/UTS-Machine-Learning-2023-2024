{
  "nbformat": 4,
  "nbformat_minor": 0,
  "metadata": {
    "colab": {
      "provenance": [],
      "collapsed_sections": [
        "8RurR7OpTCJ2"
      ]
    },
    "kernelspec": {
      "name": "python3",
      "display_name": "Python 3"
    },
    "language_info": {
      "name": "python"
    }
  },
  "cells": [
    {
      "cell_type": "code",
      "source": [
        "from google.colab import drive\n",
        "drive.mount('/content/drive')"
      ],
      "metadata": {
        "colab": {
          "base_uri": "https://localhost:8080/"
        },
        "id": "OTGXoN3f9hFX",
        "outputId": "2249df62-9912-489b-b563-a1e688d818ef"
      },
      "execution_count": null,
      "outputs": [
        {
          "output_type": "stream",
          "name": "stdout",
          "text": [
            "Mounted at /content/drive\n"
          ]
        }
      ]
    },
    {
      "cell_type": "markdown",
      "source": [
        "# Nama Kelompok - Machine Learning\n",
        "- Yudhistira Kusuma 202310067\n",
        "- Michael Mervin Ruswan 202310016\n",
        "- Fajar Alfiantino 202310072"
      ],
      "metadata": {
        "id": "L2U4z6Xx93Xe"
      }
    },
    {
      "cell_type": "code",
      "source": [
        "# Loading the libraries\n",
        "import numpy as np\n",
        "import pandas as pd\n",
        "from sklearn import datasets, tree\n",
        "from sklearn.metrics import silhouette_score, confusion_matrix, classification_report, accuracy_score\n",
        "from sklearn.model_selection import train_test_split\n",
        "from sklearn.tree import DecisionTreeClassifier\n",
        "from sklearn.preprocessing import MinMaxScaler\n",
        "from sklearn.impute import SimpleImputer\n",
        "from sklearn.preprocessing import StandardScaler\n",
        "from sklearn.svm import SVC\n",
        "from sklearn.cluster import DBSCAN, KMeans, AgglomerativeClustering\n",
        "from sklearn.neighbors import KNeighborsClassifier\n",
        "from matplotlib import pyplot as plt"
      ],
      "metadata": {
        "id": "HfP0KQ0OA4SS"
      },
      "execution_count": null,
      "outputs": []
    },
    {
      "cell_type": "code",
      "execution_count": null,
      "metadata": {
        "id": "hZVjmGld9TfN"
      },
      "outputs": [],
      "source": [
        "## Load Dataset from CSV\n",
        "csv = '/content/drive/MyDrive/MachineLearning/UTS/mobileprice_modified.csv'\n",
        "dataset = pd.read_csv(csv)"
      ]
    },
    {
      "cell_type": "markdown",
      "source": [
        "## Nomor 2 - Praproses Data"
      ],
      "metadata": {
        "id": "Tkqg46bILulX"
      }
    },
    {
      "cell_type": "markdown",
      "source": [
        "### Real Value"
      ],
      "metadata": {
        "id": "jWFBVUXbT62w"
      }
    },
    {
      "cell_type": "code",
      "source": [
        "# Tampilkan statistik deskriptif sebelum pengisian missing value dan standarisasi\n",
        "# Statistik deskriptif => cabang dari statistik untuk mendeskripsikan dan merangkum data.\n",
        "# 2 jenis statistik deskriptif => Measures of Central Tendency (mean, median, modus), Measures of Spread (std, kuartil)\n",
        "\n",
        "deskripsi_awal = dataset.describe()\n",
        "print(\"Statistik Deskriptif Sebelum Pengisian Missing Value dan Standarisasi:\")\n",
        "print(deskripsi_awal)"
      ],
      "metadata": {
        "colab": {
          "base_uri": "https://localhost:8080/"
        },
        "id": "6Iyt3TYILO_-",
        "outputId": "3fd98404-2e18-499d-c722-af88f91669cb"
      },
      "execution_count": null,
      "outputs": [
        {
          "output_type": "stream",
          "name": "stdout",
          "text": [
            "Statistik Deskriptif Sebelum Pengisian Missing Value dan Standarisasi:\n",
            "       battery_power       blue  clock_speed     dual_sim           fc  \\\n",
            "count    1990.000000  2000.0000  2000.000000  2000.000000  2000.000000   \n",
            "mean     1237.867839     0.4950     1.522250     0.509500     4.309500   \n",
            "std       439.676025     0.5001     0.816004     0.500035     4.341444   \n",
            "min       501.000000     0.0000     0.500000     0.000000     0.000000   \n",
            "25%       850.250000     0.0000     0.700000     0.000000     1.000000   \n",
            "50%      1225.000000     0.0000     1.500000     1.000000     3.000000   \n",
            "75%      1615.000000     1.0000     2.200000     1.000000     7.000000   \n",
            "max      1998.000000     1.0000     3.000000     1.000000    19.000000   \n",
            "\n",
            "            four_g   int_memory        m_dep    mobile_wt      n_cores  ...  \\\n",
            "count  2000.000000  1990.000000  2000.000000  1990.000000  2000.000000  ...   \n",
            "mean      0.521500    31.987940     0.501750   140.344221     4.520500  ...   \n",
            "std       0.499662    18.136427     0.288416    35.407114     2.287837  ...   \n",
            "min       0.000000     2.000000     0.100000    80.000000     1.000000  ...   \n",
            "25%       0.000000    16.000000     0.200000   109.000000     3.000000  ...   \n",
            "50%       1.000000    32.000000     0.500000   141.000000     4.000000  ...   \n",
            "75%       1.000000    48.000000     0.800000   170.000000     7.000000  ...   \n",
            "max       1.000000    64.000000     1.000000   200.000000     8.000000  ...   \n",
            "\n",
            "         px_height     px_width          ram         sc_h         sc_w  \\\n",
            "count  2000.000000  2000.000000  1990.000000  2000.000000  2000.000000   \n",
            "mean    645.108000  1251.515500  2124.991960    12.306500     5.767000   \n",
            "std     443.780811   432.199447  1084.885362     4.213245     4.356398   \n",
            "min       0.000000   500.000000   256.000000     5.000000     0.000000   \n",
            "25%     282.750000   874.750000  1208.250000     9.000000     2.000000   \n",
            "50%     564.000000  1247.000000  2146.500000    12.000000     5.000000   \n",
            "75%     947.250000  1633.000000  3065.500000    16.000000     9.000000   \n",
            "max    1960.000000  1998.000000  3998.000000    19.000000    18.000000   \n",
            "\n",
            "         talk_time      three_g  touch_screen         wifi  price_range  \n",
            "count  2000.000000  2000.000000   2000.000000  2000.000000  2000.000000  \n",
            "mean     11.011000     0.761500      0.503000     0.507000     1.500000  \n",
            "std       5.463955     0.426273      0.500116     0.500076     1.118314  \n",
            "min       2.000000     0.000000      0.000000     0.000000     0.000000  \n",
            "25%       6.000000     1.000000      0.000000     0.000000     0.750000  \n",
            "50%      11.000000     1.000000      1.000000     1.000000     1.500000  \n",
            "75%      16.000000     1.000000      1.000000     1.000000     2.250000  \n",
            "max      20.000000     1.000000      1.000000     1.000000     3.000000  \n",
            "\n",
            "[8 rows x 21 columns]\n"
          ]
        }
      ]
    },
    {
      "cell_type": "code",
      "source": [
        "print(dataset.shape)"
      ],
      "metadata": {
        "colab": {
          "base_uri": "https://localhost:8080/"
        },
        "id": "FxjrhQFRq_h-",
        "outputId": "770b2bf0-e576-47e5-b487-e9bd8882d89a"
      },
      "execution_count": null,
      "outputs": [
        {
          "output_type": "stream",
          "name": "stdout",
          "text": [
            "(2000, 21)\n"
          ]
        }
      ]
    },
    {
      "cell_type": "code",
      "source": [
        "print(dataset)\n",
        "dataset.isna().sum()"
      ],
      "metadata": {
        "colab": {
          "base_uri": "https://localhost:8080/"
        },
        "id": "yXJyXJr-WTZw",
        "outputId": "e8d88979-a0f6-40c1-dbce-77a1d9274cb4"
      },
      "execution_count": null,
      "outputs": [
        {
          "output_type": "stream",
          "name": "stdout",
          "text": [
            "      battery_power  blue  clock_speed  dual_sim  fc  four_g  int_memory  \\\n",
            "0             842.0     0          2.2         0   1       0         7.0   \n",
            "1            1021.0     1          0.5         1   0       1        53.0   \n",
            "2             563.0     1          0.5         1   2       1        41.0   \n",
            "3             615.0     1          2.5         0   0       0        10.0   \n",
            "4            1821.0     1          1.2         0  13       1        44.0   \n",
            "...             ...   ...          ...       ...  ..     ...         ...   \n",
            "1995          794.0     1          0.5         1   0       1         2.0   \n",
            "1996         1965.0     1          2.6         1   0       0        39.0   \n",
            "1997         1911.0     0          0.9         1   1       1        36.0   \n",
            "1998         1512.0     0          0.9         0   4       1        46.0   \n",
            "1999          510.0     1          2.0         1   5       1        45.0   \n",
            "\n",
            "      m_dep  mobile_wt  n_cores  ...  px_height  px_width     ram  sc_h  sc_w  \\\n",
            "0       0.6      188.0        2  ...         20       756     NaN     9     7   \n",
            "1       0.7      136.0        3  ...        905      1988  2631.0    17     3   \n",
            "2       0.9      145.0        5  ...       1263      1716  2603.0    11     2   \n",
            "3       0.8      131.0        6  ...       1216      1786  2769.0    16     8   \n",
            "4       0.6      141.0        2  ...       1208      1212  1411.0     8     2   \n",
            "...     ...        ...      ...  ...        ...       ...     ...   ...   ...   \n",
            "1995    0.8      106.0        6  ...       1222      1890   668.0    13     4   \n",
            "1996    0.2      187.0        4  ...        915      1965  2032.0    11    10   \n",
            "1997    0.7      108.0        8  ...        868      1632  3057.0     9     1   \n",
            "1998    0.1      145.0        5  ...        336       670   869.0    18    10   \n",
            "1999    0.9      168.0        6  ...        483       754  3919.0    19     4   \n",
            "\n",
            "      talk_time  three_g  touch_screen  wifi  price_range  \n",
            "0            19        0             0     1            1  \n",
            "1             7        1             1     0            2  \n",
            "2             9        1             1     0            2  \n",
            "3            11        1             0     0            2  \n",
            "4            15        1             1     0            1  \n",
            "...         ...      ...           ...   ...          ...  \n",
            "1995         19        1             1     0            0  \n",
            "1996         16        1             1     1            2  \n",
            "1997          5        1             1     0            3  \n",
            "1998         19        1             1     1            0  \n",
            "1999          2        1             1     1            3  \n",
            "\n",
            "[2000 rows x 21 columns]\n"
          ]
        },
        {
          "output_type": "execute_result",
          "data": {
            "text/plain": [
              "battery_power    10\n",
              "blue              0\n",
              "clock_speed       0\n",
              "dual_sim          0\n",
              "fc                0\n",
              "four_g            0\n",
              "int_memory       10\n",
              "m_dep             0\n",
              "mobile_wt        10\n",
              "n_cores           0\n",
              "pc                0\n",
              "px_height         0\n",
              "px_width          0\n",
              "ram              10\n",
              "sc_h              0\n",
              "sc_w              0\n",
              "talk_time         0\n",
              "three_g           0\n",
              "touch_screen      0\n",
              "wifi              0\n",
              "price_range       0\n",
              "dtype: int64"
            ]
          },
          "metadata": {},
          "execution_count": 55
        }
      ]
    },
    {
      "cell_type": "markdown",
      "source": [
        "### Standard Scaler"
      ],
      "metadata": {
        "id": "oqY74o1JTP1Z"
      }
    },
    {
      "cell_type": "code",
      "source": [
        "# Pisahkan atribut prediktor dan atribut label\n",
        "X = dataset.drop(\"price_range\", axis=1)  # Atribut prediktor\n",
        "y = dataset[\"price_range\"]  # Atribut label\n",
        "\n",
        "# Inisialisasi SimpleImputer menggunakan median sebagai strategi pengisian nilai\n",
        "imputer = SimpleImputer(strategy=\"median\")\n",
        "\n",
        "# Inisialisasi StandardScaler untuk mengubah nilai atribut prediktor agar nilai\n",
        "# dari masing-masing atribut seragam\n",
        "scaler = StandardScaler()\n",
        "\n",
        "# Imputasi missing value dan Lakukan standarisasi menggunakan StandardScaling Scaling pada atribut prediktor yang sudah diimputasi\n",
        "X_imputed = imputer.fit_transform(X)\n",
        "X_scaled = scaler.fit_transform(X_imputed)\n",
        "\n",
        "# Konversi hasil transformasi kembali ke Pandas DataFrame (opsional)\n",
        "X_scaled_df = pd.DataFrame(X_scaled, columns=X.columns)\n",
        "\n",
        "# Gabungkan atribut prediktor yang sudah diimputasi dan distandarisasi dengan atribut label\n",
        "data_scaled = pd.concat([X_scaled_df, y], axis=1)\n",
        "\n",
        "# Tampilkan statistik deskriptif setelah pengisian missing value dan standarisasi\n",
        "deskripsi_setelah = data_scaled.describe()\n",
        "print(\"\\nStatistik Deskriptif Setelah Pengisian Missing Value dan Standarisasi (Menggunakan StandardScaler):\")\n",
        "print(deskripsi_setelah)"
      ],
      "metadata": {
        "colab": {
          "base_uri": "https://localhost:8080/"
        },
        "id": "LqPtFUNaLSMJ",
        "outputId": "4d0b9bdb-4cc7-4a1b-bb81-dd5d857aa597"
      },
      "execution_count": null,
      "outputs": [
        {
          "output_type": "stream",
          "name": "stdout",
          "text": [
            "\n",
            "Statistik Deskriptif Setelah Pengisian Missing Value dan Standarisasi (Menggunakan StandardScaler):\n",
            "       battery_power          blue   clock_speed      dual_sim            fc  \\\n",
            "count   2.000000e+03  2.000000e+03  2.000000e+03  2.000000e+03  2.000000e+03   \n",
            "mean    2.842171e-17 -1.243450e-17 -1.545430e-16  8.082424e-17  5.861978e-17   \n",
            "std     1.000250e+00  1.000250e+00  1.000250e+00  1.000250e+00  1.000250e+00   \n",
            "min    -1.680411e+00 -9.900495e-01 -1.253064e+00 -1.019184e+00 -9.928904e-01   \n",
            "25%    -8.804636e-01 -9.900495e-01 -1.007906e+00 -1.019184e+00 -7.624947e-01   \n",
            "50%    -2.920066e-02 -9.900495e-01 -2.727384e-02  9.811771e-01 -3.017032e-01   \n",
            "75%     8.579829e-01  1.010051e+00  8.307794e-01  9.811771e-01  6.198797e-01   \n",
            "max     1.733763e+00  1.010051e+00  1.811412e+00  9.811771e-01  3.384628e+00   \n",
            "\n",
            "             four_g    int_memory         m_dep     mobile_wt       n_cores  \\\n",
            "count  2.000000e+03  2.000000e+03  2.000000e+03  2.000000e+03  2.000000e+03   \n",
            "mean   1.048051e-16  3.197442e-17 -1.030287e-16  8.881784e-17 -7.727152e-17   \n",
            "std    1.000250e+00  1.000250e+00  1.000250e+00  1.000250e+00  1.000250e+00   \n",
            "min   -1.043966e+00 -1.658034e+00 -1.393304e+00 -1.709094e+00 -1.539175e+00   \n",
            "25%   -1.043966e+00 -8.839751e-01 -1.046495e+00 -8.877887e-01 -6.647678e-01   \n",
            "50%    9.578860e-01  6.634789e-04 -6.069151e-03  1.847937e-02 -2.275644e-01   \n",
            "75%    9.578860e-01  8.853020e-01  1.034357e+00  8.397848e-01  1.084046e+00   \n",
            "max    9.578860e-01  1.769941e+00  1.727974e+00  1.689411e+00  1.521249e+00   \n",
            "\n",
            "       ...     px_height      px_width           ram          sc_h  \\\n",
            "count  ...  2.000000e+03  2.000000e+03  2.000000e+03  2.000000e+03   \n",
            "mean   ...  1.181277e-16  6.084022e-17  1.740830e-16  4.884981e-17   \n",
            "std    ...  1.000250e+00  1.000250e+00  1.000250e+00  1.000250e+00   \n",
            "min    ... -1.454027e+00 -1.739251e+00 -1.727610e+00 -1.734608e+00   \n",
            "25%    ... -8.167289e-01 -8.719579e-01 -8.451340e-01 -7.849833e-01   \n",
            "50%    ... -1.828116e-01 -1.045034e-02  1.978050e-02 -7.276497e-02   \n",
            "75%    ...  6.810064e-01  8.828792e-01  8.641293e-01  8.768595e-01   \n",
            "max    ...  2.963672e+00  1.727608e+00  1.731123e+00  1.589078e+00   \n",
            "\n",
            "               sc_w     talk_time       three_g  touch_screen          wifi  \\\n",
            "count  2.000000e+03  2.000000e+03  2.000000e+03  2.000000e+03  2.000000e+03   \n",
            "mean  -5.506706e-17  1.421085e-16  1.421085e-17 -5.417888e-17  1.421085e-17   \n",
            "std    1.000250e+00  1.000250e+00  1.000250e+00  1.000250e+00  1.000250e+00   \n",
            "min   -1.324131e+00 -1.649584e+00 -1.786861e+00 -1.006018e+00 -1.014099e+00   \n",
            "25%   -8.649215e-01 -9.173306e-01  5.596406e-01 -1.006018e+00 -1.014099e+00   \n",
            "50%   -1.761069e-01 -2.013697e-03  5.596406e-01  9.940179e-01  9.860966e-01   \n",
            "75%    7.423125e-01  9.133032e-01  5.596406e-01  9.940179e-01  9.860966e-01   \n",
            "max    2.808756e+00  1.645557e+00  5.596406e-01  9.940179e-01  9.860966e-01   \n",
            "\n",
            "       price_range  \n",
            "count  2000.000000  \n",
            "mean      1.500000  \n",
            "std       1.118314  \n",
            "min       0.000000  \n",
            "25%       0.750000  \n",
            "50%       1.500000  \n",
            "75%       2.250000  \n",
            "max       3.000000  \n",
            "\n",
            "[8 rows x 21 columns]\n"
          ]
        }
      ]
    },
    {
      "cell_type": "markdown",
      "source": [
        "### MinMax Scaler"
      ],
      "metadata": {
        "id": "vT3CxWRSTUcM"
      }
    },
    {
      "cell_type": "code",
      "source": [
        "# Pisahkan atribut prediktor\n",
        "X = dataset.drop(\"price_range\", axis=1)  # Atribut prediktor yang akan diimputasi\n",
        "\n",
        "# Inisialisasi Min-Max Scaler dan Simple Imputer\n",
        "scaler = MinMaxScaler()\n",
        "imputer = SimpleImputer(strategy=\"median\")\n",
        "\n",
        "# Imputasi missing value dengan median\n",
        "X_imputed = imputer.fit_transform(X)\n",
        "\n",
        "# Lakukan standarisasi menggunakan Min-Max Scaling pada atribut prediktor yang sudah diimputasi\n",
        "X_scaled = scaler.fit_transform(X_imputed)\n",
        "\n",
        "# Konversi hasil transformasi kembali ke Pandas DataFrame (opsional)\n",
        "X_scaled_df = pd.DataFrame(X_scaled, columns=X.columns)\n",
        "\n",
        "# Gabungkan atribut prediktor yang sudah diimputasi dan distandarisasi dengan atribut label\n",
        "data_scaled = pd.concat([X_scaled_df, y], axis=1)\n",
        "\n",
        "# Tampilkan statistik deskriptif setelah pengisian dan standarisasi\n",
        "deskripsi_setelah = data_scaled.describe()\n",
        "print(\"Statistik Deskriptif Setelah Pengisian dan Standarisasi (Menggunakan MinMaxScaler):\")\n",
        "print(deskripsi_setelah)"
      ],
      "metadata": {
        "colab": {
          "base_uri": "https://localhost:8080/"
        },
        "id": "_H6HdevBTYe1",
        "outputId": "8c0c0d05-4c6f-40b2-a05c-6ed3e69b71f7"
      },
      "execution_count": null,
      "outputs": [
        {
          "output_type": "stream",
          "name": "stdout",
          "text": [
            "Statistik Deskriptif Setelah Pengisian dan Standarisasi (Menggunakan MinMaxScaler):\n",
            "       battery_power       blue  clock_speed     dual_sim           fc  \\\n",
            "count    2000.000000  2000.0000  2000.000000  2000.000000  2000.000000   \n",
            "mean        0.492187     0.4950     0.408900     0.509500     0.226816   \n",
            "std         0.292970     0.5001     0.326402     0.500035     0.228497   \n",
            "min         0.000000     0.0000     0.000000     0.000000     0.000000   \n",
            "25%         0.234302     0.0000     0.080000     0.000000     0.052632   \n",
            "50%         0.483634     0.0000     0.400000     1.000000     0.157895   \n",
            "75%         0.743487     1.0000     0.680000     1.000000     0.368421   \n",
            "max         1.000000     1.0000     1.000000     1.000000     1.000000   \n",
            "\n",
            "            four_g   int_memory        m_dep    mobile_wt      n_cores  ...  \\\n",
            "count  2000.000000  2000.000000  2000.000000  2000.000000  2000.000000  ...   \n",
            "mean      0.521500     0.483677     0.446389     0.502896     0.502929  ...   \n",
            "std       0.499662     0.291790     0.320462     0.294321     0.326834  ...   \n",
            "min       0.000000     0.000000     0.000000     0.000000     0.000000  ...   \n",
            "25%       0.000000     0.225806     0.111111     0.241667     0.285714  ...   \n",
            "50%       1.000000     0.483871     0.444444     0.508333     0.428571  ...   \n",
            "75%       1.000000     0.741935     0.777778     0.750000     0.857143  ...   \n",
            "max       1.000000     1.000000     1.000000     1.000000     1.000000  ...   \n",
            "\n",
            "         px_height     px_width          ram         sc_h         sc_w  \\\n",
            "count  2000.000000  2000.000000  2000.000000  2000.000000  2000.000000   \n",
            "mean      0.329137     0.501679     0.499492     0.521893     0.320389   \n",
            "std       0.226419     0.288518     0.289195     0.300946     0.242022   \n",
            "min       0.000000     0.000000     0.000000     0.000000     0.000000   \n",
            "25%       0.144260     0.250167     0.255144     0.285714     0.111111   \n",
            "50%       0.287755     0.498665     0.505211     0.500000     0.277778   \n",
            "75%       0.483291     0.756342     0.749332     0.785714     0.500000   \n",
            "max       1.000000     1.000000     1.000000     1.000000     1.000000   \n",
            "\n",
            "         talk_time      three_g  touch_screen         wifi  price_range  \n",
            "count  2000.000000  2000.000000   2000.000000  2000.000000  2000.000000  \n",
            "mean      0.500611     0.761500      0.503000     0.507000     1.500000  \n",
            "std       0.303553     0.426273      0.500116     0.500076     1.118314  \n",
            "min       0.000000     0.000000      0.000000     0.000000     0.000000  \n",
            "25%       0.222222     1.000000      0.000000     0.000000     0.750000  \n",
            "50%       0.500000     1.000000      1.000000     1.000000     1.500000  \n",
            "75%       0.777778     1.000000      1.000000     1.000000     2.250000  \n",
            "max       1.000000     1.000000      1.000000     1.000000     3.000000  \n",
            "\n",
            "[8 rows x 21 columns]\n"
          ]
        }
      ]
    },
    {
      "cell_type": "markdown",
      "source": [
        "## Nomor 3 - Classification"
      ],
      "metadata": {
        "id": "46KmVzewLyPM"
      }
    },
    {
      "cell_type": "markdown",
      "source": [
        "### Decision Tree"
      ],
      "metadata": {
        "id": "8RurR7OpTCJ2"
      }
    },
    {
      "cell_type": "code",
      "source": [
        "# Pisahkan atribut prediktor dan atribut label\n",
        "X = dataset.drop(\"price_range\", axis=1)  # Atribut prediktor\n",
        "y = dataset[\"price_range\"]  # Atribut label\n",
        "\n",
        "# Inisialisasi SimpleImputer untuk mengisi nilai-nilai yang hilang dengan median\n",
        "imputer = SimpleImputer(strategy=\"median\")\n",
        "X = imputer.fit_transform(X)\n",
        "\n",
        "# Bagi data menjadi data latih (80%) dan data uji (20%) dengan metode holdout\n",
        "X_train, X_test, y_train, y_test = train_test_split(X, y, test_size=0.2, random_state=42)\n",
        "\n",
        "# Inisialisasi model Decision Tree\n",
        "decision_tree_model = DecisionTreeClassifier()\n",
        "\n",
        "# Latih model Decision Tree menggunakan data latih\n",
        "decision_tree_model.fit(X_train, y_train)\n",
        "\n",
        "# Prediksi label pada data uji\n",
        "y_pred = decision_tree_model.predict(X_test)\n",
        "\n",
        "# Hitung akurasi\n",
        "accuracy = accuracy_score(y_test, y_pred)\n",
        "print(\"Akurasi Model: {:.2f}%\".format(accuracy * 100))\n",
        "class_report = classification_report(y_test, y_pred)\n",
        "\n",
        "# Tampilkan confusion matrix\n",
        "conf_matrix = confusion_matrix(y_test, y_pred)\n",
        "print(\"Confusion Matrix:\")\n",
        "print(conf_matrix)\n",
        "print(\"Laporan Klasifikasi:\\n\", class_report)"
      ],
      "metadata": {
        "colab": {
          "base_uri": "https://localhost:8080/"
        },
        "id": "VOdY1aNFUHY2",
        "outputId": "63ba2563-5013-443b-9277-44c76f5d2add"
      },
      "execution_count": null,
      "outputs": [
        {
          "output_type": "stream",
          "name": "stdout",
          "text": [
            "Akurasi Model: 81.50%\n",
            "Confusion Matrix:\n",
            "[[89 16  0  0]\n",
            " [ 7 75  9  0]\n",
            " [ 0 16 63 13]\n",
            " [ 0  0 13 99]]\n",
            "Laporan Klasifikasi:\n",
            "               precision    recall  f1-score   support\n",
            "\n",
            "           0       0.93      0.85      0.89       105\n",
            "           1       0.70      0.82      0.76        91\n",
            "           2       0.74      0.68      0.71        92\n",
            "           3       0.88      0.88      0.88       112\n",
            "\n",
            "    accuracy                           0.81       400\n",
            "   macro avg       0.81      0.81      0.81       400\n",
            "weighted avg       0.82      0.81      0.82       400\n",
            "\n"
          ]
        }
      ]
    },
    {
      "cell_type": "markdown",
      "source": [
        "### KNN"
      ],
      "metadata": {
        "id": "5Ogc-QO2S-3s"
      }
    },
    {
      "cell_type": "code",
      "source": [
        "# Pisahkan atribut prediktor dan atribut label\n",
        "X = dataset.drop(\"price_range\", axis=1)  # Atribut prediktor\n",
        "y = dataset[\"price_range\"]  # Atribut label\n",
        "\n",
        "# Inisialisasi SimpleImputer untuk mengisi nilai-nilai yang hilang dengan median\n",
        "imputer = SimpleImputer(strategy=\"median\")\n",
        "X = imputer.fit_transform(X)\n",
        "\n",
        "# Bagi data menjadi data latih (80%) dan data uji (20%) dengan metode holdout\n",
        "X_train, X_test, y_train, y_test = train_test_split(X, y, test_size=0.2, random_state=42)\n",
        "\n",
        "# Inisialisasi model KNN\n",
        "knn_model = KNeighborsClassifier(n_neighbors=25)  # Ganti nilai n_neighbors sesuai kebutuhan, 25 terbaik, 94,75% (?)\n",
        "\n",
        "# Latih model KNN menggunakan data latih\n",
        "knn_model.fit(X_train, y_train)\n",
        "\n",
        "# Prediksi label pada data uji\n",
        "y_pred = knn_model.predict(X_test)\n",
        "\n",
        "# Hitung akurasi\n",
        "accuracy = accuracy_score(y_test, y_pred)\n",
        "print(\"Akurasi Model: {:.2f}%\".format(accuracy * 100))\n",
        "class_report = classification_report(y_test, y_pred)\n",
        "\n",
        "# Tampilkan confusion matrix\n",
        "conf_matrix = confusion_matrix(y_test, y_pred)\n",
        "print(\"Confusion Matrix:\")\n",
        "print(conf_matrix)\n",
        "print(\"Laporan Klasifikasi:\\n\", class_report)"
      ],
      "metadata": {
        "colab": {
          "base_uri": "https://localhost:8080/"
        },
        "id": "LPSBmUsbVm-a",
        "outputId": "04e1e5eb-b022-40be-8446-60d9c0910996"
      },
      "execution_count": null,
      "outputs": [
        {
          "output_type": "stream",
          "name": "stdout",
          "text": [
            "Akurasi Model: 94.75%\n",
            "Confusion Matrix:\n",
            "[[102   3   0   0]\n",
            " [  2  87   2   0]\n",
            " [  0   4  86   2]\n",
            " [  0   0   8 104]]\n",
            "Laporan Klasifikasi:\n",
            "               precision    recall  f1-score   support\n",
            "\n",
            "           0       0.98      0.97      0.98       105\n",
            "           1       0.93      0.96      0.94        91\n",
            "           2       0.90      0.93      0.91        92\n",
            "           3       0.98      0.93      0.95       112\n",
            "\n",
            "    accuracy                           0.95       400\n",
            "   macro avg       0.95      0.95      0.95       400\n",
            "weighted avg       0.95      0.95      0.95       400\n",
            "\n"
          ]
        }
      ]
    },
    {
      "cell_type": "markdown",
      "source": [
        "### SVM"
      ],
      "metadata": {
        "id": "GNxYmeeNS8yI"
      }
    },
    {
      "cell_type": "code",
      "source": [
        "# Pisahkan atribut prediktor dan atribut label\n",
        "X = dataset.drop(\"price_range\", axis=1)  # Atribut prediktor yang sudah diimputasi dan distandarisasi\n",
        "y = dataset[\"price_range\"]  # Atribut label\n",
        "\n",
        "# Inisialisasi SimpleImputer dan StandardScaler\n",
        "imputer = SimpleImputer(strategy=\"median\")\n",
        "scaler = StandardScaler()\n",
        "\n",
        "# Imputasi missing value dan standarisasi atribut prediktor\n",
        "X_imputed = imputer.fit_transform(X)\n",
        "X_scaled = scaler.fit_transform(X_imputed)\n",
        "\n",
        "# Inisialisasi model SVM (Support Vector Machine) dengan kernel linear\n",
        "svm_model = SVC(kernel='linear')\n",
        "\n",
        "# Bagi data menjadi data latih (80%) dan data uji (20%) dengan metode holdout\n",
        "X_train, X_test, y_train, y_test = train_test_split(X_scaled, y, test_size=0.2, random_state=42)\n",
        "\n",
        "# Latih model SVM menggunakan data latih\n",
        "svm_model.fit(X_train, y_train)\n",
        "\n",
        "# Prediksi label pada data uji\n",
        "y_pred = svm_model.predict(X_test)\n",
        "\n",
        "# Evaluasi model\n",
        "accuracy = accuracy_score(y_test, y_pred)\n",
        "conf_matrix = confusion_matrix(y_test, y_pred)\n",
        "class_report = classification_report(y_test, y_pred)\n",
        "\n",
        "# Tampilkan hasil evaluasi\n",
        "print(\"Akurasi: {:.2f}%\".format(accuracy * 100))\n",
        "print(\"Matriks Konfusi:\\n\", conf_matrix)\n",
        "print(\"Laporan Klasifikasi:\\n\", class_report)"
      ],
      "metadata": {
        "id": "wyNu3qA3L0RJ",
        "outputId": "8bbcd9b9-d757-47cd-86d7-77a26696e4fa",
        "colab": {
          "base_uri": "https://localhost:8080/"
        }
      },
      "execution_count": null,
      "outputs": [
        {
          "output_type": "stream",
          "name": "stdout",
          "text": [
            "Akurasi: 96.00%\n",
            "Matriks Konfusi:\n",
            " [[ 97   8   0   0]\n",
            " [  0  90   1   0]\n",
            " [  0   3  86   3]\n",
            " [  0   0   1 111]]\n",
            "Laporan Klasifikasi:\n",
            "               precision    recall  f1-score   support\n",
            "\n",
            "           0       1.00      0.92      0.96       105\n",
            "           1       0.89      0.99      0.94        91\n",
            "           2       0.98      0.93      0.96        92\n",
            "           3       0.97      0.99      0.98       112\n",
            "\n",
            "    accuracy                           0.96       400\n",
            "   macro avg       0.96      0.96      0.96       400\n",
            "weighted avg       0.96      0.96      0.96       400\n",
            "\n"
          ]
        }
      ]
    },
    {
      "cell_type": "markdown",
      "source": [
        "## Nomor 4 - Clustering"
      ],
      "metadata": {
        "id": "xUrAaANPNI1F"
      }
    },
    {
      "cell_type": "markdown",
      "source": [
        "### Agglomerative Clustering"
      ],
      "metadata": {
        "id": "dXK7GogyStUE"
      }
    },
    {
      "cell_type": "code",
      "source": [
        "# Pisahkan atribut prediktor\n",
        "X = dataset.drop(\"price_range\", axis=1)  # Atribut prediktor\n",
        "\n",
        "# Inisialisasi SimpleImputer untuk mengisi nilai-nilai yang hilang dengan median\n",
        "imputer = SimpleImputer(strategy=\"median\")\n",
        "X_imputed = imputer.fit_transform(X)\n",
        "\n",
        "# Inisialisasi model Agglomerative Clustering\n",
        "num_clusters_range = range(2,8)  # Ganti dengan jumlah cluster yang ingin dicoba\n",
        "linkage_methods = ['ward', 'complete', 'average', 'single']  # Ganti dengan metode penggabungan yang ingin dicoba\n",
        "\n",
        "best_silhouette_score = -1  # Inisialisasi skor Silhouette terbaik\n",
        "best_config = None  # Inisialisasi konfigurasi terbaik\n",
        "\n",
        "# Loop melalui variasi jumlah cluster dan metode penggabungan\n",
        "for num_clusters in num_clusters_range:\n",
        "    for linkage_method in linkage_methods:\n",
        "        # Inisialisasi model Agglomerative Clustering\n",
        "        agg_model = AgglomerativeClustering(n_clusters=num_clusters, linkage=linkage_method)\n",
        "\n",
        "        # Lakukan klustering dengan Agglomerative Clustering\n",
        "        labels = agg_model.fit_predict(X_imputed)\n",
        "\n",
        "        # Hitung Silhouette Score\n",
        "        silhouette_avg = silhouette_score(X_imputed, labels)\n",
        "\n",
        "        # Cetak hasil\n",
        "        print(f\"Number of Clusters: {num_clusters}, Linkage Method: {linkage_method}, Silhouette Score: {silhouette_avg}\")\n",
        "\n",
        "        # Periksa apakah hasil saat ini lebih baik\n",
        "        if silhouette_avg > best_silhouette_score:\n",
        "            best_silhouette_score = silhouette_avg\n",
        "            best_config = (num_clusters, linkage_method)\n",
        "\n",
        "print(\"Best Configuration:\")\n",
        "print(f\"Number of Clusters: {best_config[0]}, Linkage Method: {best_config[1]}\")\n",
        "print(\"Best Silhouette Score:\", best_silhouette_score)"
      ],
      "metadata": {
        "colab": {
          "base_uri": "https://localhost:8080/"
        },
        "id": "hvnLaovLYKBF",
        "outputId": "521c3a58-4d3a-411e-87a7-3d0365badb9c"
      },
      "execution_count": null,
      "outputs": [
        {
          "output_type": "stream",
          "name": "stdout",
          "text": [
            "Number of Clusters: 2, Linkage Method: ward, Silhouette Score: 0.3794387610344186\n",
            "Number of Clusters: 2, Linkage Method: complete, Silhouette Score: 0.3697867898618279\n",
            "Number of Clusters: 2, Linkage Method: average, Silhouette Score: 0.376730003158973\n",
            "Number of Clusters: 2, Linkage Method: single, Silhouette Score: 0.12523571232387107\n",
            "Number of Clusters: 3, Linkage Method: ward, Silhouette Score: 0.24772147110710824\n",
            "Number of Clusters: 3, Linkage Method: complete, Silhouette Score: 0.24078691471030247\n",
            "Number of Clusters: 3, Linkage Method: average, Silhouette Score: 0.2499049214577642\n",
            "Number of Clusters: 3, Linkage Method: single, Silhouette Score: 0.07681025030009409\n",
            "Number of Clusters: 4, Linkage Method: ward, Silhouette Score: 0.19291302141421546\n",
            "Number of Clusters: 4, Linkage Method: complete, Silhouette Score: 0.1967349543175183\n",
            "Number of Clusters: 4, Linkage Method: average, Silhouette Score: 0.19946383471130555\n",
            "Number of Clusters: 4, Linkage Method: single, Silhouette Score: -0.015446864208103801\n",
            "Number of Clusters: 5, Linkage Method: ward, Silhouette Score: 0.16279192224867714\n",
            "Number of Clusters: 5, Linkage Method: complete, Silhouette Score: 0.1973272622576889\n",
            "Number of Clusters: 5, Linkage Method: average, Silhouette Score: 0.19409020960323067\n",
            "Number of Clusters: 5, Linkage Method: single, Silhouette Score: -0.07247282561803892\n",
            "Number of Clusters: 6, Linkage Method: ward, Silhouette Score: 0.16025372510910676\n",
            "Number of Clusters: 6, Linkage Method: complete, Silhouette Score: 0.1766917250659397\n",
            "Number of Clusters: 6, Linkage Method: average, Silhouette Score: 0.17492512091847748\n",
            "Number of Clusters: 6, Linkage Method: single, Silhouette Score: -0.08369198932862139\n",
            "Number of Clusters: 7, Linkage Method: ward, Silhouette Score: 0.154079213083362\n",
            "Number of Clusters: 7, Linkage Method: complete, Silhouette Score: 0.16809184705673655\n",
            "Number of Clusters: 7, Linkage Method: average, Silhouette Score: 0.16858152464198986\n",
            "Number of Clusters: 7, Linkage Method: single, Silhouette Score: -0.24944457318142263\n",
            "Best Configuration:\n",
            "Number of Clusters: 2, Linkage Method: ward\n",
            "Best Silhouette Score: 0.3794387610344186\n"
          ]
        }
      ]
    },
    {
      "cell_type": "markdown",
      "source": [
        "### DBScan"
      ],
      "metadata": {
        "id": "jxQH9APNSqFR"
      }
    },
    {
      "cell_type": "code",
      "source": [
        "# Pisahkan atribut prediktor\n",
        "X = dataset.drop(\"price_range\", axis=1)  # Atribut prediktor\n",
        "\n",
        "# Inisialisasi SimpleImputer untuk mengisi nilai-nilai yang hilang dengan median\n",
        "imputer = SimpleImputer(strategy=\"median\")\n",
        "X_imputed = imputer.fit_transform(X)\n",
        "\n",
        "# Inisialisasi StandardScaler untuk standarisasi atribut prediktor\n",
        "scaler = StandardScaler()\n",
        "X_scaled = scaler.fit_transform(X_imputed)\n",
        "\n",
        "# Range nilai eps dan min_samples yang ingin dicoba\n",
        "eps_values = [4.0, 4.35, 4.5, 4.65]  # Ganti dengan nilai eps yang ingin dicoba\n",
        "min_samples_values = [20, 30, 40, 50]  # Ganti dengan nilai min_samples yang ingin dicoba\n",
        "\n",
        "best_silhouette_score = -1  # Inisialisasi skor Silhouette terbaik\n",
        "best_eps = None  # Inisialisasi nilai eps terbaik\n",
        "best_min_samples = None  # Inisialisasi nilai min_samples terbaik\n",
        "\n",
        "for eps in eps_values:\n",
        "    for min_samples in min_samples_values:\n",
        "        # Inisialisasi model DBSCAN dengan parameter yang disesuaikan\n",
        "        dbscan_model = DBSCAN(eps=eps, min_samples=min_samples)\n",
        "\n",
        "        # Lakukan klustering dengan DBSCAN\n",
        "        labels = dbscan_model.fit_predict(X_scaled)\n",
        "\n",
        "        # Hitung Silhouette Score\n",
        "        silhouette_avg = silhouette_score(X_scaled, labels)\n",
        "\n",
        "        # Tampilkan hasil\n",
        "        print(f\"eps: {eps}, min_samples: {min_samples}, Silhouette Score: {silhouette_avg}\")\n",
        "\n",
        "        # Periksa apakah hasil saat ini lebih baik\n",
        "        if silhouette_avg > best_silhouette_score:\n",
        "            best_silhouette_score = silhouette_avg\n",
        "            best_eps = eps\n",
        "            best_min_samples = min_samples\n",
        "\n",
        "print(\"Best Configuration:\")\n",
        "print(f\"eps: {best_eps}, min_samples: {best_min_samples}\")\n",
        "print(\"Best Silhouette Score:\", best_silhouette_score)"
      ],
      "metadata": {
        "colab": {
          "base_uri": "https://localhost:8080/"
        },
        "id": "e5LMYlkTZwbg",
        "outputId": "94e77310-3cda-47b0-98a6-063b6144d9f2"
      },
      "execution_count": null,
      "outputs": [
        {
          "output_type": "stream",
          "name": "stdout",
          "text": [
            "eps: 4.0, min_samples: 20, Silhouette Score: 0.023588216255901122\n",
            "eps: 4.0, min_samples: 30, Silhouette Score: 0.051242108900158484\n",
            "eps: 4.0, min_samples: 40, Silhouette Score: 0.03560687181759633\n",
            "eps: 4.0, min_samples: 50, Silhouette Score: 0.01766015885450677\n",
            "eps: 4.35, min_samples: 20, Silhouette Score: 0.12264845314750267\n",
            "eps: 4.35, min_samples: 30, Silhouette Score: 0.11160132137320525\n",
            "eps: 4.35, min_samples: 40, Silhouette Score: 0.09995934950750388\n",
            "eps: 4.35, min_samples: 50, Silhouette Score: 0.09098370687212781\n",
            "eps: 4.5, min_samples: 20, Silhouette Score: 0.1374837222320706\n",
            "eps: 4.5, min_samples: 30, Silhouette Score: 0.1386198864936266\n",
            "eps: 4.5, min_samples: 40, Silhouette Score: 0.11918878221428339\n",
            "eps: 4.5, min_samples: 50, Silhouette Score: 0.11275756066740253\n",
            "eps: 4.65, min_samples: 20, Silhouette Score: 0.15587933570561763\n",
            "eps: 4.65, min_samples: 30, Silhouette Score: 0.15587933570561763\n",
            "eps: 4.65, min_samples: 40, Silhouette Score: 0.15587933570561763\n",
            "eps: 4.65, min_samples: 50, Silhouette Score: 0.15209777024384283\n",
            "Best Configuration:\n",
            "eps: 4.65, min_samples: 20\n",
            "Best Silhouette Score: 0.15587933570561763\n"
          ]
        }
      ]
    },
    {
      "cell_type": "markdown",
      "source": [
        "### K-Means"
      ],
      "metadata": {
        "id": "1HNvwpqCSnQQ"
      }
    },
    {
      "cell_type": "code",
      "source": [
        "# Pisahkan atribut prediktor\n",
        "X = dataset.drop(\"price_range\", axis=1)  # Atribut prediktor\n",
        "\n",
        "# Inisialisasi SimpleImputer untuk mengisi nilai-nilai yang hilang dengan median\n",
        "imputer = SimpleImputer(strategy=\"median\")\n",
        "X_imputed = imputer.fit_transform(X)\n",
        "\n",
        "# Range jumlah kluster yang ingin dicoba\n",
        "num_clusters_range = range(2, 8)  # Coba dari 2 hingga 7 kluster\n",
        "\n",
        "# Inisialisasi nilai n_init yang ingin digunakan\n",
        "n_init_value = 10  # Ganti dengan nilai n_init yang Anda inginkan\n",
        "\n",
        "best_silhouette_score = -1  # Inisialisasi skor Silhouette terbaik\n",
        "\n",
        "for num_clusters in num_clusters_range:\n",
        "    # Inisialisasi model K-Means dan setel n_init secara eksplisit\n",
        "    kmeans_model = KMeans(n_clusters=num_clusters, n_init=n_init_value)\n",
        "\n",
        "    # Lakukan klustering dengan K-Means\n",
        "    labels = kmeans_model.fit_predict(X_imputed)\n",
        "\n",
        "    # Hitung Silhouette Score\n",
        "    silhouette_avg = silhouette_score(X_imputed, labels)\n",
        "\n",
        "    # Tampilkan hasil\n",
        "    print(f\"Number of Clusters: {num_clusters}, Silhouette Score: {silhouette_avg}\")\n",
        "\n",
        "    # Periksa apakah hasil saat ini lebih baik\n",
        "    if silhouette_avg > best_silhouette_score:\n",
        "      best_silhouette_score = silhouette_avg\n",
        "      best_config = num_clusters\n",
        "\n",
        "print(\"Best Configuration:\")\n",
        "print(f\"Number of Clusters: {best_config}\")\n",
        "print(\"Best Silhouette Score:\", best_silhouette_score)"
      ],
      "metadata": {
        "colab": {
          "base_uri": "https://localhost:8080/"
        },
        "id": "XYW5SBsFMxE6",
        "outputId": "690077a7-a131-4324-8b1a-b2fe19a6e210"
      },
      "execution_count": null,
      "outputs": [
        {
          "output_type": "stream",
          "name": "stdout",
          "text": [
            "Number of Clusters: 2, Silhouette Score: 0.3983422741001593\n",
            "Number of Clusters: 3, Silhouette Score: 0.27794814569235043\n",
            "Number of Clusters: 4, Silhouette Score: 0.2620004173839964\n",
            "Number of Clusters: 5, Silhouette Score: 0.24263073582900407\n",
            "Number of Clusters: 6, Silhouette Score: 0.22662952026243344\n",
            "Number of Clusters: 7, Silhouette Score: 0.22627946273518137\n",
            "Best Configuration:\n",
            "Number of Clusters: 2\n",
            "Best Silhouette Score: 0.3983422741001593\n"
          ]
        }
      ]
    }
  ]
}